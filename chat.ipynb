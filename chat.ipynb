{
 "cells": [
  {
   "cell_type": "code",
   "execution_count": null,
   "id": "42bccdea",
   "metadata": {},
   "outputs": [],
   "source": [
    "import random\n",
    "import json\n",
    "import torch\n",
    "from ipynb.fs.full.nltk_utils import tokenize, stem, bag_of_words\n",
    "from ipynb.fs.full.model import NeuralNet\n",
    "\n",
    "device = torch.device('cuda' if torch.cuda.is_available() else 'cpu') # check gpu support \n",
    "with open(intents.json,'r') as f:\n",
    "    intents = json.load(f)\n",
    "model = NeuralNet(input_size, hidden_size, output_size).to(device)\n"
   ]
  }
 ],
 "metadata": {
  "kernelspec": {
   "display_name": "Python 3",
   "language": "python",
   "name": "python3"
  },
  "language_info": {
   "codemirror_mode": {
    "name": "ipython",
    "version": 3
   },
   "file_extension": ".py",
   "mimetype": "text/x-python",
   "name": "python",
   "nbconvert_exporter": "python",
   "pygments_lexer": "ipython3",
   "version": "3.8.8"
  }
 },
 "nbformat": 4,
 "nbformat_minor": 5
}
